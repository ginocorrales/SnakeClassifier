{
 "cells": [
  {
   "cell_type": "markdown",
   "metadata": {},
   "source": [
    "# Snake Classifier with AlexNet"
   ]
  },
  {
   "cell_type": "markdown",
   "metadata": {},
   "source": [
    "## Imports"
   ]
  },
  {
   "cell_type": "code",
   "execution_count": 3,
   "metadata": {},
   "outputs": [],
   "source": [
    "import numpy as np\n",
    "import pandas as pd\n",
    "import os, sys\n",
    "import matplotlib.pyplot as plt\n",
    "import keras\n",
    "import numpy as np\n",
    "from sklearn.utils import shuffle\n",
    "from keras.models import Sequential\n",
    "from keras.layers import Dense, Activation, Dropout, Flatten, Conv2D, MaxPooling2D\n",
    "from keras.layers.normalization import BatchNormalization\n",
    "from IPython.display import display\n",
    "from IPython.display import Image as _Imgdis\n",
    "from PIL import Image\n",
    "from scipy import ndimage\n",
    "from keras.preprocessing.image import ImageDataGenerator, array_to_img, img_to_array, load_img\n",
    "\n",
    "np.random.seed(1000)"
   ]
  },
  {
   "cell_type": "markdown",
   "metadata": {},
   "source": [
    "## Reading in Data"
   ]
  },
  {
   "cell_type": "code",
   "execution_count": 4,
   "metadata": {},
   "outputs": [],
   "source": [
    "non_venomous_dir = \"./Non-Venomous\"\n",
    "venomous_dir = \"./Venomous\"\n",
    "snake_data = {}\n",
    "label_dict = {}\n",
    "target_size = (224,224,3)\n",
    "venomous_species = []\n",
    "non_venomous_species = []\n",
    "#counter for species id\n",
    "i = 0\n",
    "\n",
    "for species in os.listdir(non_venomous_dir):\n",
    "    non_venomous_species.append(species)\n",
    "    img_list = []\n",
    "    species_folder = os.listdir(os.path.join(non_venomous_dir,species))\n",
    "    #print(species_folder)\n",
    "    label_dict[species] = i\n",
    "    for img_name in species_folder:\n",
    "        img = load_img(non_venomous_dir + \"/\" + species + \"/\" + img_name)\n",
    "        img = img.resize((224,224))\n",
    "        img_array = img_to_array(img)\n",
    "        img_list.append(img_array)\n",
    "        \n",
    "    snake_data[species] = np.array(img_list)\n",
    "    i += 1\n",
    "    \n",
    "    \n",
    "    \n",
    "for species in os.listdir(venomous_dir):\n",
    "    venomous_species.append(species)\n",
    "    img_list = []\n",
    "    species_folder = os.listdir(os.path.join(venomous_dir,species))\n",
    "    label_dict[species] = i\n",
    "    for img_name in species_folder:\n",
    "        img = load_img(venomous_dir + \"/\" + species + \"/\" + img_name)\n",
    "        img = img.resize((224,224))\n",
    "        img_array = img_to_array(img)\n",
    "        img_list.append(img_array)\n",
    "        \n",
    "    snake_data[species] = np.array(img_list)\n",
    "    i += 1\n",
    "\n",
    "    "
   ]
  },
  {
   "cell_type": "markdown",
   "metadata": {},
   "source": [
    "## Organizing Data for Training"
   ]
  },
  {
   "cell_type": "code",
   "execution_count": null,
   "metadata": {},
   "outputs": [],
   "source": [
    "img_array = []\n",
    "img_labels = []\n",
    "for species in snake_data:\n",
    "    for img in snake_data[species]:\n",
    "        img_array.append(img)\n",
    "        img_labels.append(label_dict[species])\n",
    "img_array = np.array(img_array)\n",
    "img_labels = np.array(img_labels)"
   ]
  },
  {
   "cell_type": "code",
   "execution_count": 6,
   "metadata": {},
   "outputs": [],
   "source": [
    "img_array,img_labels = shuffle(img_array,img_labels)"
   ]
  },
  {
   "cell_type": "code",
   "execution_count": 7,
   "metadata": {},
   "outputs": [],
   "source": [
    "original_img_array = np.copy(img_array)"
   ]
  },
  {
   "cell_type": "markdown",
   "metadata": {},
   "source": [
    "## Undo Preprocessing"
   ]
  },
  {
   "cell_type": "code",
   "execution_count": null,
   "metadata": {},
   "outputs": [],
   "source": [
    "img_array = np.copy(original_img_array)"
   ]
  },
  {
   "cell_type": "markdown",
   "metadata": {},
   "source": [
    "## Preprocessing"
   ]
  },
  {
   "cell_type": "code",
   "execution_count": 12,
   "metadata": {},
   "outputs": [],
   "source": [
    "img_array /= 255"
   ]
  },
  {
   "cell_type": "code",
   "execution_count": 8,
   "metadata": {},
   "outputs": [],
   "source": [
    "train_percent = .8\n",
    "train_count = int(train_percent*len(img_array))\n",
    "test_count = len(img_array) - train_count\n",
    "\n",
    "train_labels = img_labels[0:train_count]\n",
    "test_labels = img_labels[train_count:]\n",
    "\n",
    "train_images = img_array[0:train_count]\n",
    "test_images = img_array[train_count:]\n"
   ]
  },
  {
   "cell_type": "code",
   "execution_count": 9,
   "metadata": {},
   "outputs": [],
   "source": [
    "num_category = len(snake_data.keys())\n",
    "\n",
    "# convert class vectors to binary class matrices\n",
    "train_labels = keras.utils.to_categorical(train_labels, num_category)\n",
    "test_labels = keras.utils.to_categorical(test_labels, num_category)"
   ]
  },
  {
   "cell_type": "code",
   "execution_count": 10,
   "metadata": {},
   "outputs": [
    {
     "name": "stdout",
     "output_type": "stream",
     "text": [
      "_________________________________________________________________\n",
      "Layer (type)                 Output Shape              Param #   \n",
      "=================================================================\n",
      "conv2d_1 (Conv2D)            (None, 54, 54, 96)        34944     \n",
      "_________________________________________________________________\n",
      "activation_1 (Activation)    (None, 54, 54, 96)        0         \n",
      "_________________________________________________________________\n",
      "max_pooling2d_1 (MaxPooling2 (None, 27, 27, 96)        0         \n",
      "_________________________________________________________________\n",
      "conv2d_2 (Conv2D)            (None, 17, 17, 256)       2973952   \n",
      "_________________________________________________________________\n",
      "activation_2 (Activation)    (None, 17, 17, 256)       0         \n",
      "_________________________________________________________________\n",
      "max_pooling2d_2 (MaxPooling2 (None, 8, 8, 256)         0         \n",
      "_________________________________________________________________\n",
      "conv2d_3 (Conv2D)            (None, 6, 6, 384)         885120    \n",
      "_________________________________________________________________\n",
      "activation_3 (Activation)    (None, 6, 6, 384)         0         \n",
      "_________________________________________________________________\n",
      "conv2d_4 (Conv2D)            (None, 4, 4, 384)         1327488   \n",
      "_________________________________________________________________\n",
      "activation_4 (Activation)    (None, 4, 4, 384)         0         \n",
      "_________________________________________________________________\n",
      "conv2d_5 (Conv2D)            (None, 2, 2, 256)         884992    \n",
      "_________________________________________________________________\n",
      "activation_5 (Activation)    (None, 2, 2, 256)         0         \n",
      "_________________________________________________________________\n",
      "max_pooling2d_3 (MaxPooling2 (None, 1, 1, 256)         0         \n",
      "_________________________________________________________________\n",
      "flatten_1 (Flatten)          (None, 256)               0         \n",
      "_________________________________________________________________\n",
      "dense_1 (Dense)              (None, 4096)              1052672   \n",
      "_________________________________________________________________\n",
      "activation_6 (Activation)    (None, 4096)              0         \n",
      "_________________________________________________________________\n",
      "dropout_1 (Dropout)          (None, 4096)              0         \n",
      "_________________________________________________________________\n",
      "dense_2 (Dense)              (None, 4096)              16781312  \n",
      "_________________________________________________________________\n",
      "activation_7 (Activation)    (None, 4096)              0         \n",
      "_________________________________________________________________\n",
      "dropout_2 (Dropout)          (None, 4096)              0         \n",
      "_________________________________________________________________\n",
      "dense_3 (Dense)              (None, 1000)              4097000   \n",
      "_________________________________________________________________\n",
      "activation_8 (Activation)    (None, 1000)              0         \n",
      "_________________________________________________________________\n",
      "dropout_3 (Dropout)          (None, 1000)              0         \n",
      "_________________________________________________________________\n",
      "dense_4 (Dense)              (None, 13)                13013     \n",
      "_________________________________________________________________\n",
      "activation_9 (Activation)    (None, 13)                0         \n",
      "=================================================================\n",
      "Total params: 28,050,493\n",
      "Trainable params: 28,050,493\n",
      "Non-trainable params: 0\n",
      "_________________________________________________________________\n"
     ]
    }
   ],
   "source": [
    "#Instantiate an empty model\n",
    "model = Sequential()\n",
    "\n",
    "# 1st Convolutional Layer\n",
    "model.add(Conv2D(filters=96, input_shape=(224,224,3), kernel_size=(11,11), strides=(4,4), padding='valid'))\n",
    "model.add(Activation('relu'))\n",
    "# Max Pooling\n",
    "model.add(MaxPooling2D(pool_size=(2,2), strides=(2,2), padding='valid'))\n",
    "\n",
    "# 2nd Convolutional Layer\n",
    "model.add(Conv2D(filters=256, kernel_size=(11,11), strides=(1,1), padding='valid'))\n",
    "model.add(Activation('relu'))\n",
    "# Max Pooling\n",
    "model.add(MaxPooling2D(pool_size=(2,2), strides=(2,2), padding='valid'))\n",
    "\n",
    "# 3rd Convolutional Layer\n",
    "model.add(Conv2D(filters=384, kernel_size=(3,3), strides=(1,1), padding='valid'))\n",
    "model.add(Activation('relu'))\n",
    "\n",
    "# 4th Convolutional Layer\n",
    "model.add(Conv2D(filters=384, kernel_size=(3,3), strides=(1,1), padding='valid'))\n",
    "model.add(Activation('relu'))\n",
    "\n",
    "# 5th Convolutional Layer\n",
    "model.add(Conv2D(filters=256, kernel_size=(3,3), strides=(1,1), padding='valid'))\n",
    "model.add(Activation('relu'))\n",
    "# Max Pooling\n",
    "model.add(MaxPooling2D(pool_size=(2,2), strides=(2,2), padding='valid'))\n",
    "\n",
    "# Passing it to a Fully Connected layer\n",
    "model.add(Flatten())\n",
    "# 1st Fully Connected Layer\n",
    "model.add(Dense(4096, input_shape=(224*224*3,)))\n",
    "model.add(Activation('relu'))\n",
    "# Add Dropout to prevent overfitting\n",
    "model.add(Dropout(0.4))\n",
    "\n",
    "# 2nd Fully Connected Layer\n",
    "model.add(Dense(4096))\n",
    "model.add(Activation('relu'))\n",
    "# Add Dropout\n",
    "model.add(Dropout(0.4))\n",
    "\n",
    "# 3rd Fully Connected Layer\n",
    "model.add(Dense(1000))\n",
    "model.add(Activation('relu'))\n",
    "# Add Dropout\n",
    "model.add(Dropout(0.4))\n",
    "\n",
    "# Output Layer\n",
    "model.add(Dense(num_category))\n",
    "model.add(Activation('softmax'))\n",
    "\n",
    "model.summary()\n",
    "\n",
    "# Compile the model\n",
    "model.compile(loss=keras.losses.categorical_crossentropy, optimizer='adam', metrics=[\"accuracy\"])"
   ]
  },
  {
   "cell_type": "code",
   "execution_count": 13,
   "metadata": {},
   "outputs": [
    {
     "name": "stdout",
     "output_type": "stream",
     "text": [
      "Train on 1423 samples, validate on 356 samples\n",
      "Epoch 1/100\n",
      "1423/1423 [==============================] - 2s 1ms/step - loss: 14.8382 - acc: 0.0794 - val_loss: 14.9409 - val_acc: 0.0730\n",
      "Epoch 2/100\n",
      "1423/1423 [==============================] - 1s 746us/step - loss: 14.8382 - acc: 0.0794 - val_loss: 14.9409 - val_acc: 0.0730\n",
      "Epoch 3/100\n",
      "1423/1423 [==============================] - 1s 737us/step - loss: 14.8382 - acc: 0.0794 - val_loss: 14.9409 - val_acc: 0.0730\n",
      "Epoch 4/100\n",
      "1423/1423 [==============================] - 1s 739us/step - loss: 14.8382 - acc: 0.0794 - val_loss: 14.9409 - val_acc: 0.0730\n",
      "Epoch 5/100\n",
      "1423/1423 [==============================] - 1s 737us/step - loss: 14.8382 - acc: 0.0794 - val_loss: 14.9409 - val_acc: 0.0730\n",
      "Epoch 6/100\n",
      "1423/1423 [==============================] - 1s 738us/step - loss: 14.8382 - acc: 0.0794 - val_loss: 14.9409 - val_acc: 0.0730\n",
      "Epoch 7/100\n",
      "1423/1423 [==============================] - 1s 740us/step - loss: 14.8382 - acc: 0.0794 - val_loss: 14.9409 - val_acc: 0.0730\n",
      "Epoch 8/100\n",
      "1423/1423 [==============================] - 1s 744us/step - loss: 14.8382 - acc: 0.0794 - val_loss: 14.9409 - val_acc: 0.0730\n",
      "Epoch 9/100\n",
      "1423/1423 [==============================] - 1s 741us/step - loss: 14.8382 - acc: 0.0794 - val_loss: 14.9409 - val_acc: 0.0730\n",
      "Epoch 10/100\n",
      "1423/1423 [==============================] - 1s 740us/step - loss: 14.8382 - acc: 0.0794 - val_loss: 14.9409 - val_acc: 0.0730\n",
      "Epoch 11/100\n",
      "1423/1423 [==============================] - 1s 743us/step - loss: 14.8382 - acc: 0.0794 - val_loss: 14.9409 - val_acc: 0.0730\n",
      "Epoch 12/100\n",
      "1423/1423 [==============================] - 1s 748us/step - loss: 14.8382 - acc: 0.0794 - val_loss: 14.9409 - val_acc: 0.0730\n",
      "Epoch 13/100\n",
      "1423/1423 [==============================] - 1s 737us/step - loss: 14.8382 - acc: 0.0794 - val_loss: 14.9409 - val_acc: 0.0730\n",
      "Epoch 14/100\n",
      "1423/1423 [==============================] - 1s 740us/step - loss: 14.8382 - acc: 0.0794 - val_loss: 14.9409 - val_acc: 0.0730\n",
      "Epoch 15/100\n",
      "1423/1423 [==============================] - 1s 738us/step - loss: 14.8382 - acc: 0.0794 - val_loss: 14.9409 - val_acc: 0.0730\n",
      "Epoch 16/100\n",
      "1423/1423 [==============================] - 1s 747us/step - loss: 14.8382 - acc: 0.0794 - val_loss: 14.9409 - val_acc: 0.0730\n",
      "Epoch 17/100\n",
      "1423/1423 [==============================] - 1s 748us/step - loss: 14.8382 - acc: 0.0794 - val_loss: 14.9409 - val_acc: 0.0730\n",
      "Epoch 18/100\n",
      "1423/1423 [==============================] - 1s 752us/step - loss: 14.8382 - acc: 0.0794 - val_loss: 14.9409 - val_acc: 0.0730\n",
      "Epoch 19/100\n",
      "1423/1423 [==============================] - 1s 760us/step - loss: 14.8382 - acc: 0.0794 - val_loss: 14.9409 - val_acc: 0.0730\n",
      "Epoch 20/100\n",
      "1423/1423 [==============================] - 1s 737us/step - loss: 14.8382 - acc: 0.0794 - val_loss: 14.9409 - val_acc: 0.0730\n",
      "Epoch 21/100\n",
      "1423/1423 [==============================] - 1s 742us/step - loss: 14.8382 - acc: 0.0794 - val_loss: 14.9409 - val_acc: 0.0730\n",
      "Epoch 22/100\n",
      "1423/1423 [==============================] - 1s 741us/step - loss: 14.8382 - acc: 0.0794 - val_loss: 14.9409 - val_acc: 0.0730\n",
      "Epoch 23/100\n",
      "1423/1423 [==============================] - 1s 748us/step - loss: 14.8382 - acc: 0.0794 - val_loss: 14.9409 - val_acc: 0.0730\n",
      "Epoch 24/100\n",
      "1423/1423 [==============================] - 1s 746us/step - loss: 14.8382 - acc: 0.0794 - val_loss: 14.9409 - val_acc: 0.0730\n",
      "Epoch 25/100\n",
      "1423/1423 [==============================] - 1s 752us/step - loss: 14.8382 - acc: 0.0794 - val_loss: 14.9409 - val_acc: 0.0730\n",
      "Epoch 26/100\n",
      "1423/1423 [==============================] - 1s 746us/step - loss: 14.8382 - acc: 0.0794 - val_loss: 14.9409 - val_acc: 0.0730\n",
      "Epoch 27/100\n",
      "1423/1423 [==============================] - 1s 751us/step - loss: 14.8382 - acc: 0.0794 - val_loss: 14.9409 - val_acc: 0.0730\n",
      "Epoch 28/100\n",
      "1423/1423 [==============================] - 1s 758us/step - loss: 14.8382 - acc: 0.0794 - val_loss: 14.9409 - val_acc: 0.0730\n",
      "Epoch 29/100\n",
      "1423/1423 [==============================] - 1s 741us/step - loss: 14.8382 - acc: 0.0794 - val_loss: 14.9409 - val_acc: 0.0730\n",
      "Epoch 30/100\n",
      "1423/1423 [==============================] - 1s 751us/step - loss: 14.8382 - acc: 0.0794 - val_loss: 14.9409 - val_acc: 0.0730\n",
      "Epoch 31/100\n",
      "1423/1423 [==============================] - 1s 760us/step - loss: 14.8382 - acc: 0.0794 - val_loss: 14.9409 - val_acc: 0.0730\n",
      "Epoch 32/100\n",
      "1423/1423 [==============================] - 1s 752us/step - loss: 14.8382 - acc: 0.0794 - val_loss: 14.9409 - val_acc: 0.0730\n",
      "Epoch 33/100\n",
      "1423/1423 [==============================] - 1s 754us/step - loss: 14.8382 - acc: 0.0794 - val_loss: 14.9409 - val_acc: 0.0730\n",
      "Epoch 34/100\n",
      "1423/1423 [==============================] - 1s 744us/step - loss: 14.8382 - acc: 0.0794 - val_loss: 14.9409 - val_acc: 0.0730\n",
      "Epoch 35/100\n",
      "1423/1423 [==============================] - 1s 743us/step - loss: 14.8382 - acc: 0.0794 - val_loss: 14.9409 - val_acc: 0.0730\n",
      "Epoch 36/100\n",
      "1423/1423 [==============================] - 1s 743us/step - loss: 14.8382 - acc: 0.0794 - val_loss: 14.9409 - val_acc: 0.0730\n",
      "Epoch 37/100\n",
      "1423/1423 [==============================] - 1s 745us/step - loss: 14.8382 - acc: 0.0794 - val_loss: 14.9409 - val_acc: 0.0730\n",
      "Epoch 38/100\n",
      "1423/1423 [==============================] - 1s 746us/step - loss: 14.8382 - acc: 0.0794 - val_loss: 14.9409 - val_acc: 0.0730\n",
      "Epoch 39/100\n",
      "1423/1423 [==============================] - 1s 744us/step - loss: 14.8382 - acc: 0.0794 - val_loss: 14.9409 - val_acc: 0.0730\n",
      "Epoch 40/100\n",
      "1423/1423 [==============================] - 1s 746us/step - loss: 14.8382 - acc: 0.0794 - val_loss: 14.9409 - val_acc: 0.0730\n",
      "Epoch 41/100\n",
      "1423/1423 [==============================] - 1s 743us/step - loss: 14.8382 - acc: 0.0794 - val_loss: 14.9409 - val_acc: 0.0730\n",
      "Epoch 42/100\n",
      "1423/1423 [==============================] - 1s 743us/step - loss: 14.8382 - acc: 0.0794 - val_loss: 14.9409 - val_acc: 0.0730\n",
      "Epoch 43/100\n",
      "1423/1423 [==============================] - 1s 746us/step - loss: 14.8382 - acc: 0.0794 - val_loss: 14.9409 - val_acc: 0.0730\n",
      "Epoch 44/100\n",
      "1423/1423 [==============================] - 1s 753us/step - loss: 14.8382 - acc: 0.0794 - val_loss: 14.9409 - val_acc: 0.0730\n",
      "Epoch 45/100\n",
      "1423/1423 [==============================] - 1s 758us/step - loss: 14.8382 - acc: 0.0794 - val_loss: 14.9409 - val_acc: 0.0730\n",
      "Epoch 46/100\n",
      "1423/1423 [==============================] - 1s 758us/step - loss: 14.8382 - acc: 0.0794 - val_loss: 14.9409 - val_acc: 0.0730\n",
      "Epoch 47/100\n",
      "1423/1423 [==============================] - 1s 752us/step - loss: 14.8382 - acc: 0.0794 - val_loss: 14.9409 - val_acc: 0.0730\n",
      "Epoch 48/100\n",
      "1423/1423 [==============================] - 1s 748us/step - loss: 14.8382 - acc: 0.0794 - val_loss: 14.9409 - val_acc: 0.0730\n",
      "Epoch 49/100\n",
      "1100/1423 [======================>.......] - ETA: 0s - loss: 14.8580 - acc: 0.0782 ETA: 0s - loss: 14.77"
     ]
    },
    {
     "ename": "KeyboardInterrupt",
     "evalue": "",
     "output_type": "error",
     "traceback": [
      "\u001b[1;31m---------------------------------------------------------------------------\u001b[0m",
      "\u001b[1;31mKeyboardInterrupt\u001b[0m                         Traceback (most recent call last)",
      "\u001b[1;32m<ipython-input-13-dcd5bed5d5e2>\u001b[0m in \u001b[0;36m<module>\u001b[1;34m\u001b[0m\n\u001b[0;32m      7\u001b[0m           \u001b[0mepochs\u001b[0m\u001b[1;33m=\u001b[0m\u001b[0mnum_epoch\u001b[0m\u001b[1;33m,\u001b[0m\u001b[1;33m\u001b[0m\u001b[1;33m\u001b[0m\u001b[0m\n\u001b[0;32m      8\u001b[0m           \u001b[0mverbose\u001b[0m\u001b[1;33m=\u001b[0m\u001b[1;36m1\u001b[0m\u001b[1;33m,\u001b[0m\u001b[1;33m\u001b[0m\u001b[1;33m\u001b[0m\u001b[0m\n\u001b[1;32m----> 9\u001b[1;33m           validation_data=(test_images,test_labels))\n\u001b[0m",
      "\u001b[1;32m~\\Anaconda3\\lib\\site-packages\\keras\\engine\\training.py\u001b[0m in \u001b[0;36mfit\u001b[1;34m(self, x, y, batch_size, epochs, verbose, callbacks, validation_split, validation_data, shuffle, class_weight, sample_weight, initial_epoch, steps_per_epoch, validation_steps, **kwargs)\u001b[0m\n\u001b[0;32m   1037\u001b[0m                                         \u001b[0minitial_epoch\u001b[0m\u001b[1;33m=\u001b[0m\u001b[0minitial_epoch\u001b[0m\u001b[1;33m,\u001b[0m\u001b[1;33m\u001b[0m\u001b[1;33m\u001b[0m\u001b[0m\n\u001b[0;32m   1038\u001b[0m                                         \u001b[0msteps_per_epoch\u001b[0m\u001b[1;33m=\u001b[0m\u001b[0msteps_per_epoch\u001b[0m\u001b[1;33m,\u001b[0m\u001b[1;33m\u001b[0m\u001b[1;33m\u001b[0m\u001b[0m\n\u001b[1;32m-> 1039\u001b[1;33m                                         validation_steps=validation_steps)\n\u001b[0m\u001b[0;32m   1040\u001b[0m \u001b[1;33m\u001b[0m\u001b[0m\n\u001b[0;32m   1041\u001b[0m     def evaluate(self, x=None, y=None,\n",
      "\u001b[1;32m~\\Anaconda3\\lib\\site-packages\\keras\\engine\\training_arrays.py\u001b[0m in \u001b[0;36mfit_loop\u001b[1;34m(model, f, ins, out_labels, batch_size, epochs, verbose, callbacks, val_f, val_ins, shuffle, callback_metrics, initial_epoch, steps_per_epoch, validation_steps)\u001b[0m\n\u001b[0;32m    183\u001b[0m                         \u001b[1;31m# Do not slice the training phase flag.\u001b[0m\u001b[1;33m\u001b[0m\u001b[1;33m\u001b[0m\u001b[1;33m\u001b[0m\u001b[0m\n\u001b[0;32m    184\u001b[0m                         ins_batch = slice_arrays(\n\u001b[1;32m--> 185\u001b[1;33m                             ins[:-1], batch_ids) + [ins[-1]]\n\u001b[0m\u001b[0;32m    186\u001b[0m                     \u001b[1;32melse\u001b[0m\u001b[1;33m:\u001b[0m\u001b[1;33m\u001b[0m\u001b[1;33m\u001b[0m\u001b[0m\n\u001b[0;32m    187\u001b[0m                         \u001b[0mins_batch\u001b[0m \u001b[1;33m=\u001b[0m \u001b[0mslice_arrays\u001b[0m\u001b[1;33m(\u001b[0m\u001b[0mins\u001b[0m\u001b[1;33m,\u001b[0m \u001b[0mbatch_ids\u001b[0m\u001b[1;33m)\u001b[0m\u001b[1;33m\u001b[0m\u001b[1;33m\u001b[0m\u001b[0m\n",
      "\u001b[1;32m~\\Anaconda3\\lib\\site-packages\\keras\\utils\\generic_utils.py\u001b[0m in \u001b[0;36mslice_arrays\u001b[1;34m(arrays, start, stop)\u001b[0m\n\u001b[0;32m    524\u001b[0m             \u001b[1;32mif\u001b[0m \u001b[0mhasattr\u001b[0m\u001b[1;33m(\u001b[0m\u001b[0mstart\u001b[0m\u001b[1;33m,\u001b[0m \u001b[1;34m'shape'\u001b[0m\u001b[1;33m)\u001b[0m\u001b[1;33m:\u001b[0m\u001b[1;33m\u001b[0m\u001b[1;33m\u001b[0m\u001b[0m\n\u001b[0;32m    525\u001b[0m                 \u001b[0mstart\u001b[0m \u001b[1;33m=\u001b[0m \u001b[0mstart\u001b[0m\u001b[1;33m.\u001b[0m\u001b[0mtolist\u001b[0m\u001b[1;33m(\u001b[0m\u001b[1;33m)\u001b[0m\u001b[1;33m\u001b[0m\u001b[1;33m\u001b[0m\u001b[0m\n\u001b[1;32m--> 526\u001b[1;33m             \u001b[1;32mreturn\u001b[0m \u001b[1;33m[\u001b[0m\u001b[1;32mNone\u001b[0m \u001b[1;32mif\u001b[0m \u001b[0mx\u001b[0m \u001b[1;32mis\u001b[0m \u001b[1;32mNone\u001b[0m \u001b[1;32melse\u001b[0m \u001b[0mx\u001b[0m\u001b[1;33m[\u001b[0m\u001b[0mstart\u001b[0m\u001b[1;33m]\u001b[0m \u001b[1;32mfor\u001b[0m \u001b[0mx\u001b[0m \u001b[1;32min\u001b[0m \u001b[0marrays\u001b[0m\u001b[1;33m]\u001b[0m\u001b[1;33m\u001b[0m\u001b[1;33m\u001b[0m\u001b[0m\n\u001b[0m\u001b[0;32m    527\u001b[0m         \u001b[1;32melse\u001b[0m\u001b[1;33m:\u001b[0m\u001b[1;33m\u001b[0m\u001b[1;33m\u001b[0m\u001b[0m\n\u001b[0;32m    528\u001b[0m             \u001b[1;32mreturn\u001b[0m \u001b[1;33m[\u001b[0m\u001b[1;32mNone\u001b[0m \u001b[1;32mif\u001b[0m \u001b[0mx\u001b[0m \u001b[1;32mis\u001b[0m \u001b[1;32mNone\u001b[0m \u001b[1;32melse\u001b[0m \u001b[0mx\u001b[0m\u001b[1;33m[\u001b[0m\u001b[0mstart\u001b[0m\u001b[1;33m:\u001b[0m\u001b[0mstop\u001b[0m\u001b[1;33m]\u001b[0m \u001b[1;32mfor\u001b[0m \u001b[0mx\u001b[0m \u001b[1;32min\u001b[0m \u001b[0marrays\u001b[0m\u001b[1;33m]\u001b[0m\u001b[1;33m\u001b[0m\u001b[1;33m\u001b[0m\u001b[0m\n",
      "\u001b[1;32m~\\Anaconda3\\lib\\site-packages\\keras\\utils\\generic_utils.py\u001b[0m in \u001b[0;36m<listcomp>\u001b[1;34m(.0)\u001b[0m\n\u001b[0;32m    524\u001b[0m             \u001b[1;32mif\u001b[0m \u001b[0mhasattr\u001b[0m\u001b[1;33m(\u001b[0m\u001b[0mstart\u001b[0m\u001b[1;33m,\u001b[0m \u001b[1;34m'shape'\u001b[0m\u001b[1;33m)\u001b[0m\u001b[1;33m:\u001b[0m\u001b[1;33m\u001b[0m\u001b[1;33m\u001b[0m\u001b[0m\n\u001b[0;32m    525\u001b[0m                 \u001b[0mstart\u001b[0m \u001b[1;33m=\u001b[0m \u001b[0mstart\u001b[0m\u001b[1;33m.\u001b[0m\u001b[0mtolist\u001b[0m\u001b[1;33m(\u001b[0m\u001b[1;33m)\u001b[0m\u001b[1;33m\u001b[0m\u001b[1;33m\u001b[0m\u001b[0m\n\u001b[1;32m--> 526\u001b[1;33m             \u001b[1;32mreturn\u001b[0m \u001b[1;33m[\u001b[0m\u001b[1;32mNone\u001b[0m \u001b[1;32mif\u001b[0m \u001b[0mx\u001b[0m \u001b[1;32mis\u001b[0m \u001b[1;32mNone\u001b[0m \u001b[1;32melse\u001b[0m \u001b[0mx\u001b[0m\u001b[1;33m[\u001b[0m\u001b[0mstart\u001b[0m\u001b[1;33m]\u001b[0m \u001b[1;32mfor\u001b[0m \u001b[0mx\u001b[0m \u001b[1;32min\u001b[0m \u001b[0marrays\u001b[0m\u001b[1;33m]\u001b[0m\u001b[1;33m\u001b[0m\u001b[1;33m\u001b[0m\u001b[0m\n\u001b[0m\u001b[0;32m    527\u001b[0m         \u001b[1;32melse\u001b[0m\u001b[1;33m:\u001b[0m\u001b[1;33m\u001b[0m\u001b[1;33m\u001b[0m\u001b[0m\n\u001b[0;32m    528\u001b[0m             \u001b[1;32mreturn\u001b[0m \u001b[1;33m[\u001b[0m\u001b[1;32mNone\u001b[0m \u001b[1;32mif\u001b[0m \u001b[0mx\u001b[0m \u001b[1;32mis\u001b[0m \u001b[1;32mNone\u001b[0m \u001b[1;32melse\u001b[0m \u001b[0mx\u001b[0m\u001b[1;33m[\u001b[0m\u001b[0mstart\u001b[0m\u001b[1;33m:\u001b[0m\u001b[0mstop\u001b[0m\u001b[1;33m]\u001b[0m \u001b[1;32mfor\u001b[0m \u001b[0mx\u001b[0m \u001b[1;32min\u001b[0m \u001b[0marrays\u001b[0m\u001b[1;33m]\u001b[0m\u001b[1;33m\u001b[0m\u001b[1;33m\u001b[0m\u001b[0m\n",
      "\u001b[1;31mKeyboardInterrupt\u001b[0m: "
     ]
    }
   ],
   "source": [
    "#conv_model.fit(train_images,train_labels,epochs=5)\n",
    "batch_size = 25\n",
    "num_epoch = 100\n",
    "#model training\n",
    "model_log = model.fit(train_images,train_labels,\n",
    "          batch_size=batch_size,\n",
    "          epochs=num_epoch,\n",
    "          verbose=1,\n",
    "          validation_data=(test_images,test_labels))"
   ]
  },
  {
   "cell_type": "code",
   "execution_count": null,
   "metadata": {},
   "outputs": [],
   "source": []
  }
 ],
 "metadata": {
  "kernelspec": {
   "display_name": "Python 3",
   "language": "python",
   "name": "python3"
  },
  "language_info": {
   "codemirror_mode": {
    "name": "ipython",
    "version": 3
   },
   "file_extension": ".py",
   "mimetype": "text/x-python",
   "name": "python",
   "nbconvert_exporter": "python",
   "pygments_lexer": "ipython3",
   "version": "3.6.8"
  }
 },
 "nbformat": 4,
 "nbformat_minor": 2
}
